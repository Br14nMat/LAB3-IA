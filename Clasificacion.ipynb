{
 "cells": [
  {
   "cell_type": "code",
   "execution_count": 16,
   "id": "629de8dc-d628-4392-ae96-d5edbb574391",
   "metadata": {},
   "outputs": [
    {
     "ename": "ValueError",
     "evalue": "setting an array element with a sequence. The requested array has an inhomogeneous shape after 1 dimensions. The detected shape was (1336,) + inhomogeneous part.",
     "output_type": "error",
     "traceback": [
      "\u001b[1;31m---------------------------------------------------------------------------\u001b[0m",
      "\u001b[1;31mValueError\u001b[0m                                Traceback (most recent call last)",
      "Cell \u001b[1;32mIn[16], line 28\u001b[0m\n\u001b[0;32m     25\u001b[0m     \u001b[38;5;28;01mreturn\u001b[39;00m datos_pca, pca\n\u001b[0;32m     27\u001b[0m n_componentes_pca \u001b[38;5;241m=\u001b[39m \u001b[38;5;241m100\u001b[39m\n\u001b[1;32m---> 28\u001b[0m dataset \u001b[38;5;241m=\u001b[39m \u001b[43mnp\u001b[49m\u001b[38;5;241;43m.\u001b[39;49m\u001b[43marray\u001b[49m\u001b[43m(\u001b[49m\u001b[43mdataset\u001b[49m\u001b[43m)\u001b[49m\u001b[38;5;241m.\u001b[39mreshape(\u001b[38;5;28mlen\u001b[39m(dataset), \u001b[38;5;241m-\u001b[39m\u001b[38;5;241m1\u001b[39m)\n\u001b[0;32m     29\u001b[0m dataset_pca, pca \u001b[38;5;241m=\u001b[39m aplicar_pca(dataset, n_componentes_pca)\n\u001b[0;32m     31\u001b[0m \u001b[38;5;66;03m# Paso 3: Entrenamiento de modelos Kmeans y DBSCAN\u001b[39;00m\n",
      "\u001b[1;31mValueError\u001b[0m: setting an array element with a sequence. The requested array has an inhomogeneous shape after 1 dimensions. The detected shape was (1336,) + inhomogeneous part."
     ]
    }
   ],
   "source": [
    "import os\n",
    "import cv2\n",
    "import numpy as np\n",
    "from sklearn.decomposition import PCA\n",
    "from sklearn.cluster import KMeans, DBSCAN\n",
    "from sklearn.metrics import silhouette_score, calinski_harabasz_score\n",
    "\n",
    "# Paso 1: Leer todas las imágenes y mezclarlas\n",
    "def cargar_y_mezclar_imagenes(directorio):\n",
    "    imagenes = []\n",
    "    for clase in os.listdir(directorio):\n",
    "        for filename in os.listdir(os.path.join(directorio, clase)):\n",
    "            img = cv2.imread(os.path.join(directorio, clase, filename))\n",
    "            if img is not None:\n",
    "                imagenes.append(img)\n",
    "    np.random.shuffle(imagenes)\n",
    "    return imagenes\n",
    "\n",
    "dataset = cargar_y_mezclar_imagenes(\"dataset\")\n",
    "\n",
    "# Paso 2: Reducción de características con PCA\n",
    "def aplicar_pca(datos, n_componentes):\n",
    "    pca = PCA(n_components=n_componentes)\n",
    "    datos_pca = pca.fit_transform(datos)\n",
    "    return datos_pca, pca\n",
    "\n",
    "n_componentes_pca = 100\n",
    "dataset = np.array(dataset).reshape(len(dataset), -1)\n",
    "dataset_pca, pca = aplicar_pca(dataset, n_componentes_pca)\n",
    "\n",
    "# Paso 3: Entrenamiento de modelos Kmeans y DBSCAN\n",
    "def entrenar_modelos(datos, n_clusters):\n",
    "    kmeans = KMeans(n_clusters=n_clusters)\n",
    "    kmeans.fit(datos)\n",
    "    \n",
    "    dbscan = DBSCAN()\n",
    "    dbscan.fit(datos)\n",
    "    \n",
    "    return kmeans, dbscan\n",
    "\n",
    "n_clusters = 3\n",
    "kmeans_model, dbscan_model = entrenar_modelos(dataset_pca, n_clusters)\n",
    "\n",
    "# Paso 4: Evaluación de la calidad de la agrupación\n",
    "def evaluar_agrupacion(modelo, datos):\n",
    "    silhouette = silhouette_score(datos, modelo.labels_)\n",
    "    calinski_harabasz = calinski_harabasz_score(datos, modelo.labels_)\n",
    "    return silhouette, calinski_harabasz\n",
    "\n",
    "silhouette_kmeans, calinski_kmeans = evaluar_agrupacion(kmeans_model, dataset_pca)\n",
    "silhouette_dbscan, calinski_dbscan = evaluar_agrupacion(dbscan_model, dataset_pca)\n",
    "\n",
    "# Imprimir resultados\n",
    "print(\"Resultados del modelo Kmeans:\")\n",
    "print(\"Silhouette Score:\", silhouette_kmeans)\n",
    "print(\"Calinski-Harabasz Score:\", calinski_kmeans)\n",
    "\n",
    "print(\"\\nResultados del modelo DBSCAN:\")\n",
    "print(\"Silhouette Score:\", silhouette_dbscan)\n",
    "print(\"Calinski-Harabasz Score:\", calinski_dbscan)\n"
   ]
  }
 ],
 "metadata": {
  "kernelspec": {
   "display_name": "Python 3 (ipykernel)",
   "language": "python",
   "name": "python3"
  },
  "language_info": {
   "codemirror_mode": {
    "name": "ipython",
    "version": 3
   },
   "file_extension": ".py",
   "mimetype": "text/x-python",
   "name": "python",
   "nbconvert_exporter": "python",
   "pygments_lexer": "ipython3",
   "version": "3.11.5"
  }
 },
 "nbformat": 4,
 "nbformat_minor": 5
}
