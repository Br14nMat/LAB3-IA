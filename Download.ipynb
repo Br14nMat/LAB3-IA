{
 "cells": [
  {
   "cell_type": "code",
   "execution_count": null,
   "id": "1bf9fb19-a9eb-42f3-8aa8-dd9de3609bbf",
   "metadata": {},
   "outputs": [],
   "source": [
    "from bing_image_downloader import downloader\n",
    "query = input(\"Tipo de imagen a descargar ('perros', 'frutas', 'carros'): \")\n",
    "limit = int(input(\"Ingrese la cantidad de imágenes a descargar: \"))\n",
    "downloader.download(query,limit=limit,output_dir='images',adult_filter_off=False, force_replace=False, timeout=60)"
   ]
  }
 ],
 "metadata": {
  "kernelspec": {
   "display_name": "Python 3 (ipykernel)",
   "language": "python",
   "name": "python3"
  },
  "language_info": {
   "codemirror_mode": {
    "name": "ipython",
    "version": 3
   },
   "file_extension": ".py",
   "mimetype": "text/x-python",
   "name": "python",
   "nbconvert_exporter": "python",
   "pygments_lexer": "ipython3",
   "version": "3.11.5"
  }
 },
 "nbformat": 4,
 "nbformat_minor": 5
}
