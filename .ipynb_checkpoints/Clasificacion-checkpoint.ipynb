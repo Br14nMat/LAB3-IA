{
 "cells": [
  {
   "cell_type": "code",
   "execution_count": 8,
   "id": "12277130-4be6-4239-b465-cbded3efe083",
   "metadata": {},
   "outputs": [
    {
     "data": {
      "text/plain": [
       "array([-1, -1, -1, ..., -1, -1, -1], dtype=int64)"
      ]
     },
     "execution_count": 8,
     "metadata": {},
     "output_type": "execute_result"
    }
   ],
   "source": [
    "import os\n",
    "import random\n",
    "import cv2\n",
    "import numpy as np\n",
    "from sklearn.cluster import KMeans, DBSCAN\n",
    "from sklearn.metrics import silhouette_score, davies_bouldin_score\n",
    "\n",
    "# Función para cargar las imágenes de los directorios\n",
    "def cargar_imagenes(directorio):\n",
    "    imagenes = []\n",
    "    for filename in os.listdir(directorio):\n",
    "        if filename.endswith(\".jpg\") or filename.endswith(\".png\"):\n",
    "            img = cv2.imread(os.path.join(directorio, filename))\n",
    "            img = cv2.resize(img, (100, 100))  # Redimensionar las imágenes si es necesario\n",
    "            img = cv2.cvtColor(img, cv2.COLOR_BGR2RGB)  # Convertir a RGB\n",
    "            imagenes.append(img)\n",
    "    return imagenes\n",
    "\n",
    "# Directorio donde se encuentran las carpetas \"perros\", \"carros\" y \"frutas\"\n",
    "directorio_dataset = \"dataset\"\n",
    "\n",
    "# Cargar imágenes de los tres directorios\n",
    "imagenes_perros = cargar_imagenes(os.path.join(directorio_dataset, \"perros\"))\n",
    "imagenes_carros = cargar_imagenes(os.path.join(directorio_dataset, \"carros\"))\n",
    "imagenes_frutas = cargar_imagenes(os.path.join(directorio_dataset, \"frutas\"))\n",
    "\n",
    "# Mezclar las imágenes\n",
    "random.shuffle(imagenes_perros)\n",
    "random.shuffle(imagenes_carros)\n",
    "random.shuffle(imagenes_frutas)\n",
    "\n",
    "# Aplanar las imágenes\n",
    "X_perros = np.array([img.flatten() for img in imagenes_perros])\n",
    "X_carros = np.array([img.flatten() for img in imagenes_carros])\n",
    "X_frutas = np.array([img.flatten() for img in imagenes_frutas])\n",
    "\n",
    "# Unir los datos en un solo array\n",
    "X = np.concatenate((X_perros, X_carros, X_frutas), axis=0)\n",
    "\n",
    "# Normalizar los valores de píxeles\n",
    "X = X / 255.0\n",
    "\n",
    "# Aplicar KMeans\n",
    "kmeans = KMeans(n_clusters=3)\n",
    "y_kmeans = kmeans.fit_predict(X)\n",
    "\n",
    "# Aplicar DBSCAN\n",
    "dbscan = DBSCAN(eps=0.3, min_samples=5)\n",
    "y_dbscan = dbscan.fit_predict(X)"
   ]
  },
  {
   "cell_type": "code",
   "execution_count": 7,
   "id": "1746a904-839b-4723-b84c-b444ef62ff1f",
   "metadata": {},
   "outputs": [
    {
     "name": "stdout",
     "output_type": "stream",
     "text": [
      "Métricas para KMeans:\n",
      "Cohesión intraclase: 52.7396504279032\n",
      "Separación interclase: [[60.12344082]]\n",
      "\n",
      "No se encontraron múltiples clusters con DBSCAN.\n"
     ]
    }
   ],
   "source": [
    "from sklearn.metrics import pairwise_distances\n",
    "\n",
    "# Calcular centroides de los clusters para KMeans\n",
    "centroides_kmeans = kmeans.cluster_centers_\n",
    "\n",
    "# Calcular la cohesión intraclase para KMeans\n",
    "cohesion_kmeans = 0\n",
    "for i in range(len(centroides_kmeans)):\n",
    "    puntos_cluster = X[y_kmeans == i]\n",
    "    distancia_cluster = pairwise_distances(puntos_cluster, centroides_kmeans[i].reshape(1, -1), metric='euclidean')\n",
    "    cohesion_kmeans += np.sum(distancia_cluster)\n",
    "cohesion_kmeans /= len(X)\n",
    "\n",
    "# Calcular la separación interclase para KMeans\n",
    "separacion_kmeans = 0\n",
    "for i in range(len(centroides_kmeans)):\n",
    "    for j in range(i+1, len(centroides_kmeans)):\n",
    "        distancia_clusters = pairwise_distances(centroides_kmeans[i].reshape(1, -1), centroides_kmeans[j].reshape(1, -1), metric='euclidean')\n",
    "        separacion_kmeans += distancia_clusters\n",
    "separacion_kmeans /= (len(centroides_kmeans) * (len(centroides_kmeans) - 1) / 2)\n",
    "\n",
    "# Calcular la cohesión intraclase y separación interclase para DBSCAN\n",
    "# Solo si se encontraron más de un cluster\n",
    "if len(np.unique(y_dbscan)) > 1:\n",
    "    centroides_dbscan = np.array([np.mean(X[y_dbscan == label], axis=0) for label in np.unique(y_dbscan)])\n",
    "    cohesion_dbscan = np.mean([np.sum(pairwise_distances(X[y_dbscan == label], centroides_dbscan[i].reshape(1, -1), metric='euclidean')) for i, label in enumerate(np.unique(y_dbscan))])\n",
    "    separacion_dbscan = np.mean([np.mean(pairwise_distances(centroides_dbscan[i].reshape(1, -1), centroides_dbscan[j].reshape(1, -1), metric='euclidean')) for i in range(len(centroides_dbscan)) for j in range(i+1, len(centroides_dbscan))])\n",
    "else:\n",
    "    cohesion_dbscan = None\n",
    "    separacion_dbscan = None\n",
    "\n",
    "print(\"Métricas para KMeans:\")\n",
    "print(\"Cohesión intraclase:\", cohesion_kmeans)\n",
    "print(\"Separación interclase:\", separacion_kmeans)\n",
    "\n",
    "if cohesion_dbscan is not None and separacion_dbscan is not None:\n",
    "    print(\"\\nMétricas para DBSCAN:\")\n",
    "    print(\"Cohesión intraclase:\", cohesion_dbscan)\n",
    "    print(\"Separación interclase:\", separacion_dbscan)\n",
    "else:\n",
    "    print(\"\\nNo se encontraron múltiples clusters con DBSCAN.\")\n"
   ]
  }
 ],
 "metadata": {
  "kernelspec": {
   "display_name": "Python 3 (ipykernel)",
   "language": "python",
   "name": "python3"
  },
  "language_info": {
   "codemirror_mode": {
    "name": "ipython",
    "version": 3
   },
   "file_extension": ".py",
   "mimetype": "text/x-python",
   "name": "python",
   "nbconvert_exporter": "python",
   "pygments_lexer": "ipython3",
   "version": "3.11.5"
  }
 },
 "nbformat": 4,
 "nbformat_minor": 5
}
